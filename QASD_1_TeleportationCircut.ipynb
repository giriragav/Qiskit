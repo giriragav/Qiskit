{
  "nbformat": 4,
  "nbformat_minor": 0,
  "metadata": {
    "colab": {
      "provenance": [],
      "authorship_tag": "ABX9TyNlyixoA6IE58HNj5htM5PP",
      "include_colab_link": true
    },
    "kernelspec": {
      "name": "python3",
      "display_name": "Python 3"
    },
    "language_info": {
      "name": "python"
    }
  },
  "cells": [
    {
      "cell_type": "markdown",
      "metadata": {
        "id": "view-in-github",
        "colab_type": "text"
      },
      "source": [
        "<a href=\"https://colab.research.google.com/github/giriragav/Qiskit/blob/main/QASD_1_TeleportationCircut.ipynb\" target=\"_parent\"><img src=\"https://colab.research.google.com/assets/colab-badge.svg\" alt=\"Open In Colab\"/></a>"
      ]
    },
    {
      "cell_type": "code",
      "source": [
        "# !pip install qiskit\n",
        "# !pip install qiskit_aer\n",
        "!pip install qiskit.circuit\n"
      ],
      "metadata": {
        "colab": {
          "base_uri": "https://localhost:8080/"
        },
        "id": "Lt10LDXu9C2H",
        "outputId": "def47431-027d-408e-f39d-53d68398ddad"
      },
      "execution_count": null,
      "outputs": [
        {
          "output_type": "stream",
          "name": "stdout",
          "text": [
            "\u001b[31mERROR: Could not find a version that satisfies the requirement qiskit.circuit (from versions: none)\u001b[0m\u001b[31m\n",
            "\u001b[0m\u001b[31mERROR: No matching distribution found for qiskit.circuit\u001b[0m\u001b[31m\n",
            "\u001b[0m"
          ]
        }
      ]
    },
    {
      "cell_type": "code",
      "execution_count": null,
      "metadata": {
        "id": "hkWK7rNO8ixC"
      },
      "outputs": [],
      "source": [
        "\n",
        "import numpy as np\n",
        "from qiskit import QuantumCircuit, ClassicalRegister, QuantumRegister\n",
        "from qiskit_aer import QasmSimulator, StatevectorSimulator\n",
        "\n",
        "def initial_state(qc:QuantumCircuit, a):\n",
        "    # prepare a quantum state to teleport on qubit a\n",
        "    qc.ry(np.pi/8, a)\n",
        "\n",
        "def test_by_inverse(qc, a):\n",
        "    # Implements the inverse of initial_state\n",
        "    qc.ry(-np.pi/8, a)\n",
        "\n",
        "def resource_state(qc:QuantumCircuit, b, c):\n",
        "    # Implement your resource state on qubit b and c to be distributed to alice and bob.\n",
        "    # YOUR CODE HERE\n",
        "    return\n",
        "\n",
        "def alice(qc:QuantumCircuit, a, b, x:ClassicalRegister, y:ClassicalRegister):\n",
        "    # Alice's quantum circuit on qubit a and b, with measurements stored to x and y.\n",
        "    # YOUR CODE HERE\n",
        "    return\n",
        "\n",
        "def bob(qc:QuantumCircuit, c, x:ClassicalRegister, y:ClassicalRegister):\n",
        "    # Bob's quantum circuit on qubit c, and two classical bits x and y.\n",
        "    # See the documentation for `if_test``\n",
        "    # YOUR CODE HERE\n",
        "    return"
      ]
    },
    {
      "cell_type": "code",
      "source": [
        "# You may modify (or delete) this cell or add new cells\n",
        "\n",
        "# Initialize circuit with three qubits and two classical bits.\n",
        "qreg_a = QuantumRegister(2, 'alice')\n",
        "qreg_b = QuantumRegister(1, 'bob')\n",
        "creg1 = ClassicalRegister(1, 'c1')\n",
        "creg2 = ClassicalRegister(1, 'c2')\n",
        "qc1 = QuantumCircuit(qreg_a, qreg_b, creg1, creg2)\n",
        "\n",
        "# Run teleportation circuit\n",
        "resource_state(qc1, qreg_a[1], qreg_b[0])\n",
        "qc1.barrier()\n",
        "\n",
        "initial_state(qc1, qreg_a[0])\n",
        "qc1.barrier()\n",
        "alice(qc1, qreg_a[0], qreg_a[1], creg1, creg2)\n",
        "qc1.barrier()\n",
        "bob(qc1, qreg_b[0], creg1, creg2)\n",
        "qc1.barrier()\n",
        "\n",
        "# Optionally visualize the quantum circuit\n",
        "# display(qc1.draw(output=\"mpl\"))\n",
        "display(qc1.draw())\n",
        "\n",
        "# Use the simulator from qiskit Aer to test\n",
        "test_by_inverse(qc1, qreg_b[0]) # if successful, expect bob's qubit to return to |0> after this.\n",
        "result = ClassicalRegister(1, 'verify')\n",
        "qc1.add_register(result)\n",
        "qc1.measure(qreg_b, result)\n",
        "\n",
        "backend = QasmSimulator()\n",
        "r = backend.run(qc1, shots=1024).result()\n",
        "r.get_counts(qc1)\n",
        "# Check if bob's measurement outcome is always 0."
      ],
      "metadata": {
        "colab": {
          "base_uri": "https://localhost:8080/",
          "height": 204
        },
        "id": "s13ajLPD-B9p",
        "outputId": "9c8fa4df-aad1-488f-83ba-3d5154674dc7"
      },
      "execution_count": null,
      "outputs": [
        {
          "output_type": "display_data",
          "data": {
            "text/plain": [
              "          ░ ┌─────────┐ ░  ░  ░ \n",
              "alice_0: ─░─┤ Ry(π/8) ├─░──░──░─\n",
              "          ░ └─────────┘ ░  ░  ░ \n",
              "alice_1: ─░─────────────░──░──░─\n",
              "          ░             ░  ░  ░ \n",
              "    bob: ─░─────────────░──░──░─\n",
              "          ░             ░  ░  ░ \n",
              "   c1: 1/═══════════════════════\n",
              "                                \n",
              "   c2: 1/═══════════════════════\n",
              "                                "
            ],
            "text/html": [
              "<pre style=\"word-wrap: normal;white-space: pre;background: #fff0;line-height: 1.1;font-family: &quot;Courier New&quot;,Courier,monospace\">          ░ ┌─────────┐ ░  ░  ░ \n",
              "alice_0: ─░─┤ Ry(π/8) ├─░──░──░─\n",
              "          ░ └─────────┘ ░  ░  ░ \n",
              "alice_1: ─░─────────────░──░──░─\n",
              "          ░             ░  ░  ░ \n",
              "    bob: ─░─────────────░──░──░─\n",
              "          ░             ░  ░  ░ \n",
              "   c1: 1/═══════════════════════\n",
              "                                \n",
              "   c2: 1/═══════════════════════\n",
              "                                </pre>"
            ]
          },
          "metadata": {}
        },
        {
          "output_type": "execute_result",
          "data": {
            "text/plain": [
              "{'1 0 0': 33, '0 0 0': 991}"
            ]
          },
          "metadata": {},
          "execution_count": 9
        }
      ]
    }
  ]
}